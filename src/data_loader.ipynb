{
 "cells": [
  {
   "cell_type": "code",
   "execution_count": 1,
   "id": "336290cc-f6b1-4436-92fc-4581739ad877",
   "metadata": {},
   "outputs": [
    {
     "name": "stdout",
     "output_type": "stream",
     "text": [
      "Synthetic sales data generated and saved to ../data/raw\n"
     ]
    }
   ],
   "source": [
    "import pandas as pd\n",
    "import numpy as np\n",
    "from datetime import datetime, timedelta\n",
    "import os\n",
    "\n",
    "data_path = \"../data/raw\"\n",
    "os.makedirs(data_path, exist_ok=True)\n",
    "\n",
    "def generate_sales_data(start_date=\"2024-01-01\", days=365):\n",
    "    np.random.seed(42)\n",
    "    dates = [datetime.strptime(start_date, \"%Y-%m-%d\") + timedelta(days=i) for i in range(days)]\n",
    "    sales = np.random.poisson(lam=100, size=days) + np.sin(np.linspace(0, 50, days)) * 20\n",
    "    data = pd.DataFrame({\"Date\": dates, \"Sales\": sales})\n",
    "    data.to_csv(f\"{data_path}/synthetic_sales_data.csv\", index=False)\n",
    "    print(f\"Synthetic sales data generated and saved to {data_path}\")\n",
    "\n",
    "if __name__ == \"__main__\":\n",
    "    generate_sales_data()"
   ]
  },
  {
   "cell_type": "code",
   "execution_count": null,
   "id": "cc457f4e-3080-46b3-bab2-08982a605556",
   "metadata": {},
   "outputs": [],
   "source": []
  }
 ],
 "metadata": {
  "kernelspec": {
   "display_name": "Python 3 (ipykernel)",
   "language": "python",
   "name": "python3"
  },
  "language_info": {
   "codemirror_mode": {
    "name": "ipython",
    "version": 3
   },
   "file_extension": ".py",
   "mimetype": "text/x-python",
   "name": "python",
   "nbconvert_exporter": "python",
   "pygments_lexer": "ipython3",
   "version": "3.9.5"
  }
 },
 "nbformat": 4,
 "nbformat_minor": 5
}
