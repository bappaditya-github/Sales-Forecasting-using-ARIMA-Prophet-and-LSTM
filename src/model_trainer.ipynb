{
 "cells": [
  {
   "cell_type": "code",
   "execution_count": 19,
   "id": "19e631b9-f6d8-4fe0-9676-f256e9620927",
   "metadata": {},
   "outputs": [
    {
     "name": "stderr",
     "output_type": "stream",
     "text": [
      "INFO:prophet:Disabling yearly seasonality. Run prophet with yearly_seasonality=True to override this.\n",
      "INFO:prophet:Disabling daily seasonality. Run prophet with daily_seasonality=True to override this.\n",
      "DEBUG:cmdstanpy:input tempfile: /var/folders/dw/sr6cxxd50ng13_rn6pp56v4w0000gn/T/tmpr7lhx63j/kuqlzl_x.json\n",
      "DEBUG:cmdstanpy:input tempfile: /var/folders/dw/sr6cxxd50ng13_rn6pp56v4w0000gn/T/tmpr7lhx63j/kt4wfaiv.json\n",
      "DEBUG:cmdstanpy:idx 0\n",
      "DEBUG:cmdstanpy:running CmdStan, num_threads: None\n",
      "DEBUG:cmdstanpy:CmdStan args: ['/Library/Frameworks/Python.framework/Versions/3.9/lib/python3.9/site-packages/prophet/stan_model/prophet_model.bin', 'random', 'seed=85727', 'data', 'file=/var/folders/dw/sr6cxxd50ng13_rn6pp56v4w0000gn/T/tmpr7lhx63j/kuqlzl_x.json', 'init=/var/folders/dw/sr6cxxd50ng13_rn6pp56v4w0000gn/T/tmpr7lhx63j/kt4wfaiv.json', 'output', 'file=/var/folders/dw/sr6cxxd50ng13_rn6pp56v4w0000gn/T/tmpr7lhx63j/prophet_modelnbagus8h/prophet_model-20250108212124.csv', 'method=optimize', 'algorithm=lbfgs', 'iter=10000']\n",
      "21:21:24 - cmdstanpy - INFO - Chain [1] start processing\n",
      "INFO:cmdstanpy:Chain [1] start processing\n",
      "21:21:24 - cmdstanpy - INFO - Chain [1] done processing\n",
      "INFO:cmdstanpy:Chain [1] done processing\n"
     ]
    },
    {
     "name": "stdout",
     "output_type": "stream",
     "text": [
      "ARIMA model trained and saved.\n",
      "Prophet model trained and saved.\n",
      "Epoch 1/10\n",
      "\u001b[1m364/364\u001b[0m \u001b[32m━━━━━━━━━━━━━━━━━━━━\u001b[0m\u001b[37m\u001b[0m \u001b[1m1s\u001b[0m 1ms/step - loss: 6642.7236\n",
      "Epoch 2/10\n",
      "\u001b[1m364/364\u001b[0m \u001b[32m━━━━━━━━━━━━━━━━━━━━\u001b[0m\u001b[37m\u001b[0m \u001b[1m0s\u001b[0m 1ms/step - loss: 254.5888\n",
      "Epoch 3/10\n",
      "\u001b[1m364/364\u001b[0m \u001b[32m━━━━━━━━━━━━━━━━━━━━\u001b[0m\u001b[37m\u001b[0m \u001b[1m0s\u001b[0m 1ms/step - loss: 261.4389\n",
      "Epoch 4/10\n",
      "\u001b[1m364/364\u001b[0m \u001b[32m━━━━━━━━━━━━━━━━━━━━\u001b[0m\u001b[37m\u001b[0m \u001b[1m0s\u001b[0m 1ms/step - loss: 237.8327\n",
      "Epoch 5/10\n",
      "\u001b[1m364/364\u001b[0m \u001b[32m━━━━━━━━━━━━━━━━━━━━\u001b[0m\u001b[37m\u001b[0m \u001b[1m0s\u001b[0m 1ms/step - loss: 263.4329\n",
      "Epoch 6/10\n",
      "\u001b[1m364/364\u001b[0m \u001b[32m━━━━━━━━━━━━━━━━━━━━\u001b[0m\u001b[37m\u001b[0m \u001b[1m0s\u001b[0m 1ms/step - loss: 231.4360\n",
      "Epoch 7/10\n",
      "\u001b[1m364/364\u001b[0m \u001b[32m━━━━━━━━━━━━━━━━━━━━\u001b[0m\u001b[37m\u001b[0m \u001b[1m0s\u001b[0m 1ms/step - loss: 235.0684\n",
      "Epoch 8/10\n",
      "\u001b[1m364/364\u001b[0m \u001b[32m━━━━━━━━━━━━━━━━━━━━\u001b[0m\u001b[37m\u001b[0m \u001b[1m1s\u001b[0m 1ms/step - loss: 227.6598\n",
      "Epoch 9/10\n",
      "\u001b[1m364/364\u001b[0m \u001b[32m━━━━━━━━━━━━━━━━━━━━\u001b[0m\u001b[37m\u001b[0m \u001b[1m0s\u001b[0m 1ms/step - loss: 260.9130\n",
      "Epoch 10/10\n",
      "\u001b[1m364/364\u001b[0m \u001b[32m━━━━━━━━━━━━━━━━━━━━\u001b[0m\u001b[37m\u001b[0m \u001b[1m0s\u001b[0m 1ms/step - loss: 248.5638\n",
      "LSTM model trained and saved.\n"
     ]
    }
   ],
   "source": [
    "import pandas as pd\n",
    "from statsmodels.tsa.arima.model import ARIMA\n",
    "from prophet import Prophet\n",
    "from tensorflow.keras.models import Sequential\n",
    "from tensorflow.keras.layers import Input, LSTM, Dense\n",
    "import os\n",
    "import pickle\n",
    "\n",
    "processed_data_path = \"../data/processed/processed_sales_data.csv\"\n",
    "model_path = \"models\"\n",
    "os.makedirs(model_path, exist_ok=True)\n",
    "\n",
    "def load_processed_data():\n",
    "    return pd.read_csv(processed_data_path, parse_dates=[\"Date\"])\n",
    "\n",
    "def train_arima(data):\n",
    "    model = ARIMA(data['Sales'], order=(5,1,0))\n",
    "    model_fit = model.fit()\n",
    "    model_fit.save(f\"{model_path}/arima_model.pkl\")\n",
    "    print(\"ARIMA model trained and saved.\")\n",
    "\n",
    "def train_prophet(data):\n",
    "    data.rename(columns={\"Date\": \"ds\", \"Sales\": \"y\"}, inplace=True)\n",
    "    model = Prophet()\n",
    "    model.fit(data)\n",
    "    with open(f\"{model_path}/prophet_model.pkl\", \"wb\") as f:\n",
    "        pickle.dump(model, f)\n",
    "    print(\"Prophet model trained and saved.\")\n",
    "\n",
    "def train_lstm(data):\n",
    "    if 'Sales' in data.columns:\n",
    "        data_values = data['Sales'].values.reshape(-1, 1)\n",
    "        model = Sequential()\n",
    "        model.add(Input(shape=(1, 1)))\n",
    "        model.add(LSTM(50, activation='relu'))\n",
    "        model.add(Dense(1))\n",
    "        model.compile(optimizer='adam', loss='mse')\n",
    "        model.fit(data_values[:-1], data_values[1:], epochs=10, batch_size=1)\n",
    "        model.save(f\"{model_path}/lstm_model.keras\")\n",
    "        print(\"LSTM model trained and saved.\")\n",
    "    else:\n",
    "        print(\"Error: 'Sales' column not found in data.\")\n",
    "\n",
    "if __name__ == \"__main__\":\n",
    "    data = load_processed_data()\n",
    "    prophet_data = load_processed_data()\n",
    "    train_arima(data)\n",
    "    train_prophet(prophet_data)\n",
    "    train_lstm(data)"
   ]
  },
  {
   "cell_type": "code",
   "execution_count": null,
   "id": "81319952-3476-4584-bfb2-42dbbe079e37",
   "metadata": {},
   "outputs": [],
   "source": []
  }
 ],
 "metadata": {
  "kernelspec": {
   "display_name": "Python 3 (ipykernel)",
   "language": "python",
   "name": "python3"
  },
  "language_info": {
   "codemirror_mode": {
    "name": "ipython",
    "version": 3
   },
   "file_extension": ".py",
   "mimetype": "text/x-python",
   "name": "python",
   "nbconvert_exporter": "python",
   "pygments_lexer": "ipython3",
   "version": "3.9.5"
  }
 },
 "nbformat": 4,
 "nbformat_minor": 5
}
