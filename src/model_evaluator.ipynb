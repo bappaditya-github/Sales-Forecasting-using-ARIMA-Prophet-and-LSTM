{
 "cells": [
  {
   "cell_type": "code",
   "execution_count": 8,
   "id": "f3aed0ce-0a5f-4923-be54-9082206257d5",
   "metadata": {},
   "outputs": [
    {
     "name": "stdout",
     "output_type": "stream",
     "text": [
      "ARIMA Model MSE: 314.73637622309553\n",
      "Prophet Model MSE: 285.0143705729031\n",
      "\u001b[1m12/12\u001b[0m \u001b[32m━━━━━━━━━━━━━━━━━━━━\u001b[0m\u001b[37m\u001b[0m \u001b[1m0s\u001b[0m 12ms/step\n",
      "LSTM Model MSE: 222.10350353807272\n"
     ]
    }
   ],
   "source": [
    "# model_evaluator.py\n",
    "# Script to evaluate sales forecasting models (ARIMA, Prophet, LSTM)\n",
    "\n",
    "import warnings\n",
    "import tqdm\n",
    "import pandas as pd\n",
    "from statsmodels.tsa.arima.model import ARIMAResults\n",
    "from prophet import Prophet\n",
    "from tensorflow.keras.models import load_model\n",
    "from sklearn.metrics import mean_squared_error\n",
    "import os\n",
    "import numpy as np\n",
    "import pickle\n",
    "\n",
    "processed_data_path = \"../data/processed/processed_sales_data.csv\"\n",
    "model_path = \"models\"\n",
    "\n",
    "def load_processed_data():\n",
    "    return pd.read_csv(processed_data_path, parse_dates=[\"Date\"])\n",
    "\n",
    "def evaluate_arima(data):\n",
    "    model = ARIMAResults.load(f\"{model_path}/arima_model.pkl\")\n",
    "    predictions = model.forecast(steps=len(data))\n",
    "    mse = mean_squared_error(data['Sales'], predictions)\n",
    "    print(f\"ARIMA Model MSE: {mse}\")\n",
    "\n",
    "def evaluate_prophet(data):\n",
    "    data.rename(columns={\"Date\": \"ds\", \"Sales\": \"y\"}, inplace=True)\n",
    "    with open(f\"{model_path}/prophet_model.pkl\", \"rb\") as f:\n",
    "        model = pickle.load(f)\n",
    "    future = model.make_future_dataframe(periods=len(data))\n",
    "    forecast = model.predict(future)\n",
    "    mse = mean_squared_error(data['y'], forecast['yhat'][:len(data)])\n",
    "    print(f\"Prophet Model MSE: {mse}\")\n",
    "\n",
    "def evaluate_lstm(data):\n",
    "    model = load_model(f\"{model_path}/lstm_model.keras\")\n",
    "    data_values = data['Sales'].values.reshape(-1, 1)\n",
    "    predictions = model.predict(data_values[:-1])\n",
    "    mse = mean_squared_error(data_values[1:], predictions)\n",
    "    print(f\"LSTM Model MSE: {mse}\")\n",
    "\n",
    "if __name__ == \"__main__\":\n",
    "    warnings.filterwarnings(\"ignore\", category=tqdm.TqdmWarning)\n",
    "    data = load_processed_data()\n",
    "    prophet_data = load_processed_data()  # Make a copy for prophet\n",
    "    evaluate_arima(data.copy())  # Make a copy for arima\n",
    "    evaluate_prophet(prophet_data)\n",
    "    evaluate_lstm(data.copy())  # Make a copy for lstm"
   ]
  },
  {
   "cell_type": "code",
   "execution_count": null,
   "id": "672c28ca-cf17-4b7f-91f6-4cf070cada9f",
   "metadata": {},
   "outputs": [],
   "source": []
  }
 ],
 "metadata": {
  "kernelspec": {
   "display_name": "Python 3 (ipykernel)",
   "language": "python",
   "name": "python3"
  },
  "language_info": {
   "codemirror_mode": {
    "name": "ipython",
    "version": 3
   },
   "file_extension": ".py",
   "mimetype": "text/x-python",
   "name": "python",
   "nbconvert_exporter": "python",
   "pygments_lexer": "ipython3",
   "version": "3.9.5"
  }
 },
 "nbformat": 4,
 "nbformat_minor": 5
}
