{
 "cells": [
  {
   "cell_type": "code",
   "execution_count": 1,
   "id": "67d1aac6-1c06-4b67-bc6d-c4e70ace6db7",
   "metadata": {},
   "outputs": [],
   "source": [
    "# utils.py\n",
    "# Utility functions for the Sales Forecasting project\n",
    "\n",
    "import os\n",
    "import pandas as pd\n",
    "\n",
    "def ensure_directory_exists(directory):\n",
    "    \"\"\"Ensure the directory exists, create if it doesn't.\"\"\"\n",
    "    os.makedirs(directory, exist_ok=True)\n",
    "\n",
    "def load_csv(filepath):\n",
    "    \"\"\"Load a CSV file into a Pandas DataFrame.\"\"\"\n",
    "    try:\n",
    "        return pd.read_csv(filepath)\n",
    "    except FileNotFoundError:\n",
    "        print(f\"File not found: {filepath}\")\n",
    "        return None\n",
    "\n",
    "def save_csv(data, filepath):\n",
    "    \"\"\"Save a Pandas DataFrame to a CSV file.\"\"\"\n",
    "    ensure_directory_exists(os.path.dirname(filepath))\n",
    "    data.to_csv(filepath, index=False)\n",
    "    print(f\"Data saved to {filepath}\")"
   ]
  },
  {
   "cell_type": "code",
   "execution_count": null,
   "id": "8515aa0c-141b-46c9-974c-f1b6394ccb57",
   "metadata": {},
   "outputs": [],
   "source": []
  }
 ],
 "metadata": {
  "kernelspec": {
   "display_name": "Python 3 (ipykernel)",
   "language": "python",
   "name": "python3"
  },
  "language_info": {
   "codemirror_mode": {
    "name": "ipython",
    "version": 3
   },
   "file_extension": ".py",
   "mimetype": "text/x-python",
   "name": "python",
   "nbconvert_exporter": "python",
   "pygments_lexer": "ipython3",
   "version": "3.9.5"
  }
 },
 "nbformat": 4,
 "nbformat_minor": 5
}
