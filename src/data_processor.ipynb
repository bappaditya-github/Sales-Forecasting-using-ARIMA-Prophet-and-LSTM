{
 "cells": [
  {
   "cell_type": "code",
   "execution_count": 3,
   "id": "438df16b-1284-491d-a559-cf1e676aecd4",
   "metadata": {},
   "outputs": [
    {
     "name": "stdout",
     "output_type": "stream",
     "text": [
      "Processed data saved to ../data/processed/processed_sales_data.csv\n"
     ]
    }
   ],
   "source": [
    "import pandas as pd\n",
    "import os\n",
    "\n",
    "data_path = \"../data/raw\"\n",
    "processed_data_path = \"../data/processed\"\n",
    "os.makedirs(processed_data_path, exist_ok=True)\n",
    "\n",
    "def load_data(filename):\n",
    "    file_path = os.path.join(data_path, filename)\n",
    "    data = pd.read_csv(file_path)\n",
    "    return data\n",
    "\n",
    "def preprocess_data(data):\n",
    "    data['Date'] = pd.to_datetime(data['Date'])\n",
    "    data = data.sort_values(by='Date')\n",
    "    data = data.dropna()\n",
    "    return data\n",
    "\n",
    "def save_processed_data(data, filename=\"processed_sales_data.csv\"):\n",
    "    file_path = os.path.join(processed_data_path, filename)\n",
    "    data.to_csv(file_path, index=False)\n",
    "    print(f\"Processed data saved to {file_path}\")\n",
    "\n",
    "if __name__ == \"__main__\":\n",
    "    data = load_data(\"synthetic_sales_data.csv\")\n",
    "    processed_data = preprocess_data(data)\n",
    "    save_processed_data(processed_data)"
   ]
  },
  {
   "cell_type": "code",
   "execution_count": null,
   "id": "831ba97b-6fb2-493a-80a0-0e5f11fa83e5",
   "metadata": {},
   "outputs": [],
   "source": []
  }
 ],
 "metadata": {
  "kernelspec": {
   "display_name": "Python 3 (ipykernel)",
   "language": "python",
   "name": "python3"
  },
  "language_info": {
   "codemirror_mode": {
    "name": "ipython",
    "version": 3
   },
   "file_extension": ".py",
   "mimetype": "text/x-python",
   "name": "python",
   "nbconvert_exporter": "python",
   "pygments_lexer": "ipython3",
   "version": "3.9.5"
  }
 },
 "nbformat": 4,
 "nbformat_minor": 5
}
